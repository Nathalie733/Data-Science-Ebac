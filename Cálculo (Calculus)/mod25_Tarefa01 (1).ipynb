{
 "cells": [
  {
   "cell_type": "markdown",
   "metadata": {},
   "source": [
    "# Cálculo - Tarefa 01\n",
    "\n",
    "1. Marque quais desses métodos/algoritmos muito populares em ciência de dados são baseados no uso de derivada:\n",
    "\n",
    "    1. Método Mínimos Quadrados\n",
    "    2. Gradiente descendente\n",
    "    3. Newton Raphson\n",
    "    4. CART (Árvore de decisão)"
   ]
  },
  {
   "cell_type": "markdown",
   "metadata": {},
   "source": [
    "* Método dos Mínimos Quadrados: Embora possa ser relacionado ao cálculo de derivadas na obtenção de uma solução analítica, não depende diretamente de um processo iterativo baseado em derivadas.\n",
    "\n",
    "* Gradiente descendente: Este algoritmo utiliza derivadas para encontrar o mínimo de uma função de custo ajustando iterativamente os parâmetros do modelo na direção negativa do gradiente da função de custo.\n",
    "\n",
    "* Newton-Raphson: Este método de otimização usa derivadas (primeira e segunda derivada, ou derivada e hessiana) para encontrar zeros de funções, sendo também usado para otimização.\n",
    "\n",
    "* CART (Árvore de Decisão): Este algoritmo constrói árvores de decisão de forma heurística baseada na divisão dos dados, sem o uso de derivadas."
   ]
  },
  {
   "cell_type": "markdown",
   "metadata": {},
   "source": [
    "2. Dada uma base de dados com uma variável resposta $y$ e um conjunto de variáveis explicativas. Considere uma estrutura de um modelo de regressão. Explique com suas palavras por que não é possível obter parâmetros que forneçam um erro quadrático médio (EQM) menor que o obtido com estimadores de mínimos quadrados."
   ]
  },
  {
   "cell_type": "markdown",
   "metadata": {},
   "source": [
    "Em um modelo de regressão, o objetivo é ajustar uma linha aos dados de tal forma que a soma dos quadrados dos erros seja minimizada. Esse método é conhecido como método dos mínimos quadrados ordinários (OLS). Dentro da estrutura de um modelo de regressão linear e assumindo que as condições para a aplicação do OLS são atendidas, não é possível obter parâmetros que forneçam um EQM menor do que o obtido com os estimadores de mínimos quadrados. Isso ocorre porque o OLS é especificamente projetado para minimizar essa métrica."
   ]
  }
 ],
 "metadata": {
  "kernelspec": {
   "display_name": "Python 3 (ipykernel)",
   "language": "python",
   "name": "python3"
  },
  "language_info": {
   "codemirror_mode": {
    "name": "ipython",
    "version": 3
   },
   "file_extension": ".py",
   "mimetype": "text/x-python",
   "name": "python",
   "nbconvert_exporter": "python",
   "pygments_lexer": "ipython3",
   "version": "3.11.5"
  },
  "toc": {
   "base_numbering": 1,
   "nav_menu": {},
   "number_sections": true,
   "sideBar": true,
   "skip_h1_title": true,
   "title_cell": "Índice",
   "title_sidebar": "Conteúdo",
   "toc_cell": false,
   "toc_position": {},
   "toc_section_display": true,
   "toc_window_display": false
  },
  "varInspector": {
   "cols": {
    "lenName": 16,
    "lenType": 16,
    "lenVar": 40
   },
   "kernels_config": {
    "python": {
     "delete_cmd_postfix": "",
     "delete_cmd_prefix": "del ",
     "library": "var_list.py",
     "varRefreshCmd": "print(var_dic_list())"
    },
    "r": {
     "delete_cmd_postfix": ") ",
     "delete_cmd_prefix": "rm(",
     "library": "var_list.r",
     "varRefreshCmd": "cat(var_dic_list()) "
    }
   },
   "types_to_exclude": [
    "module",
    "function",
    "builtin_function_or_method",
    "instance",
    "_Feature"
   ],
   "window_display": false
  }
 },
 "nbformat": 4,
 "nbformat_minor": 4
}
