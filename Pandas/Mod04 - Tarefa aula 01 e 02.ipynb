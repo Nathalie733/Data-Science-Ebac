{
 "cells": [
  {
   "cell_type": "markdown",
   "metadata": {},
   "source": [
    "# Tarefa 01\n",
    "\n",
    "- Leia os enunciados com atenção\n",
    "- Saiba que pode haver mais de uma resposta correta\n",
    "- Insira novas células de código sempre que achar necessário\n",
    "- Em caso de dúvidas, procure os tutores\n",
    "- Divirta-se :)\n",
    "\n",
    "#### 1)  crie uma série do pandas a partir de uma lista com os dados abaixo:\n",
    "\n",
    "Em um estudo sobre alteração na tempreatura global, A NASA disponibiliza dados de diferenças de de temperatura média da superfície terrestre relativos às médias de temperatura entre 1951 e 1980. Os dados originais podem ser vistos no site da NASA/GISS, e estão dispostos a cada década na tabela abaixo.\n",
    "\n",
    "|ano|anomalia termica|\n",
    "|:-:|:----:|\n",
    "| 1900 | -0.08 |\n",
    "| 1920 | -0.27 |\n",
    "| 1940 | 0.12 |\n",
    "| 1960 | -0.03 |\n",
    "| 1980 | 0.26 |\n",
    "| 2000 | 0.40 |\n",
    "| 2020 | 1.02 |\n",
    "\n",
    "Crie uma séries do Pandas a partir de uma lista com esses dados."
   ]
  },
  {
   "cell_type": "code",
   "execution_count": 2,
   "metadata": {},
   "outputs": [
    {
     "name": "stdout",
     "output_type": "stream",
     "text": [
      "    ano  anomalia_termica\n",
      "0  1900             -0.08\n",
      "1  1920             -0.27\n",
      "2  1940              0.12\n",
      "3  1960             -0.03\n",
      "4  1980              0.26\n",
      "5  2000              0.40\n",
      "6  2020              1.02\n"
     ]
    }
   ],
   "source": [
    "import pandas as pd\n",
    "import numpy as np\n",
    "\n",
    "# Seu código aqui\n",
    "dados = {\n",
    "    'ano': [1900, 1920, 1940, 1960, 1980, 2000, 2020],\n",
    "    'anomalia_termica': [-0.08, -0.27, 0.12, -0.03, 0.26, 0.40, 1.02]\n",
    "}\n",
    "df = pd.DataFrame(dados)\n",
    "print(df)"
   ]
  },
  {
   "cell_type": "markdown",
   "metadata": {},
   "source": [
    "#### 2) Coloque os anos nos índices conforme a tabela."
   ]
  },
  {
   "cell_type": "code",
   "execution_count": 3,
   "metadata": {},
   "outputs": [
    {
     "name": "stdout",
     "output_type": "stream",
     "text": [
      "      anomalia_termica\n",
      "ano                   \n",
      "1900             -0.08\n",
      "1920             -0.27\n",
      "1940              0.12\n",
      "1960             -0.03\n",
      "1980              0.26\n",
      "2000              0.40\n",
      "2020              1.02\n"
     ]
    }
   ],
   "source": [
    "\n",
    "# seu código aqui\n",
    "df = df.set_index('ano')\n",
    "print(df)\n"
   ]
  },
  {
   "cell_type": "markdown",
   "metadata": {},
   "source": [
    "#### 3) A partir do dicionário abaixo, crie uma séries do Pandas:"
   ]
  },
  {
   "cell_type": "code",
   "execution_count": 4,
   "metadata": {},
   "outputs": [
    {
     "name": "stdout",
     "output_type": "stream",
     "text": [
      "1900   -0.08\n",
      "1920   -0.27\n",
      "1940    0.12\n",
      "1960   -0.03\n",
      "1980    0.26\n",
      "2000    0.40\n",
      "2020    1.02\n",
      "dtype: float64\n"
     ]
    }
   ],
   "source": [
    "dic_temperaturas = {1900: -.08, 1920: -.27, 1940: .12, 1960: -.03, 1980: .26, 2000: .40, 2020: 1.02}\n",
    "\n",
    "# seu código aqui\n",
    "serie_temperaturas = pd.Series(dic_temperaturas)\n",
    "\n",
    "print(serie_temperaturas)"
   ]
  },
  {
   "cell_type": "markdown",
   "metadata": {},
   "source": [
    "#### 4) Transforme o ndarray abaixo em um dataframe. \n",
    "O numpy é capaz de gerar arrays n-dimensionais com números pseudo-aleatórios de acordo com uma variedade de distribuições, como no exemplo abaixo. Transforme esse nd-array em um DataFrame."
   ]
  },
  {
   "cell_type": "code",
   "execution_count": 10,
   "metadata": {},
   "outputs": [
    {
     "name": "stdout",
     "output_type": "stream",
     "text": [
      "             0           1           2\n",
      "0    97.136971  110.626645   88.023471\n",
      "1   116.028590   91.455214   94.975639\n",
      "2    82.901486   97.602281  104.943345\n",
      "3   103.345002  113.545420   90.991431\n",
      "4   128.426471  115.065875   99.613334\n",
      "5    96.349029   86.842127   89.490547\n",
      "6    88.733547  107.508542   98.661540\n",
      "7    87.534215  125.201527  101.308092\n",
      "8   107.772703  111.914269   86.865691\n",
      "9    96.724035   85.376610  106.363696\n",
      "10  120.438927  111.495489   91.523365\n",
      "11  117.615951   89.971750   89.795522\n",
      "12   92.794770  104.828442  130.598475\n",
      "13  103.536499  112.517349  111.083845\n",
      "14   82.169596   79.048001  111.243364\n",
      "15  102.662774  103.437891   97.048515\n",
      "16   91.312562  114.088153   98.270949\n",
      "17   83.987045  100.522193  113.534780\n",
      "18   89.249739  102.100502  108.824397\n",
      "19   94.940035   98.618688  107.502529\n"
     ]
    }
   ],
   "source": [
    "arr = np.random.normal(100, 10, (20,3))\n",
    "\n",
    "# seu código aqui\n",
    "df = pd.DataFrame(arr)\n",
    "print(df)"
   ]
  },
  {
   "cell_type": "markdown",
   "metadata": {},
   "source": [
    "#### 5) Nomeie os índices das linhas com inteiros de 1 a 20, e as colunas com os nomes \"x1\", \"x2\", e \"x3\" respectivamente."
   ]
  },
  {
   "cell_type": "code",
   "execution_count": 6,
   "metadata": {},
   "outputs": [
    {
     "name": "stdout",
     "output_type": "stream",
     "text": [
      "            x1          x2          x3\n",
      "1   103.634535   98.112320   98.175915\n",
      "2    87.200442  107.173092   89.627584\n",
      "3   106.662538   89.329932   97.468660\n",
      "4    95.740002   91.891748  103.299085\n",
      "5   105.166628   95.950878   98.235475\n",
      "6   101.204797   84.230583  103.425208\n",
      "7    90.261516  112.704469   97.982995\n",
      "8   112.750581  108.532167  107.035892\n",
      "9    93.004002   90.454219  109.952011\n",
      "10   96.565496  117.752815  102.539265\n",
      "11   96.895469   94.912200  108.893134\n",
      "12  104.055720   81.597514   91.626103\n",
      "13   99.060510  104.930291  101.243354\n",
      "14   78.241234  105.217363  105.325549\n",
      "15  102.110084   98.468761  110.654949\n",
      "16  109.420121   89.317292  103.715076\n",
      "17  106.968237   88.941754  102.002783\n",
      "18  101.556620  100.327853   90.381079\n",
      "19   97.194334  112.645971  113.797657\n",
      "20   99.589817  122.297423   80.874857\n"
     ]
    }
   ],
   "source": [
    "#seu código aqui\n",
    "df = pd.DataFrame(arr, columns=['x1', 'x2', 'x3'])\n",
    "df.index = range(1, 21)\n",
    "print(df)"
   ]
  },
  {
   "cell_type": "markdown",
   "metadata": {},
   "source": [
    "#### 6) No DataFrame do exercício 5, crie uma nova coluna como sendo a média das três colunas, e dê a ela o nome de \"media\" (não recomendo colocar acentos em nomes de variáveis)."
   ]
  },
  {
   "cell_type": "code",
   "execution_count": 13,
   "metadata": {
    "scrolled": true
   },
   "outputs": [
    {
     "name": "stdout",
     "output_type": "stream",
     "text": [
      "            x1          x2          x3       media\n",
      "1    97.136971  110.626645   88.023471   98.595696\n",
      "2   116.028590   91.455214   94.975639  100.819814\n",
      "3    82.901486   97.602281  104.943345   95.149037\n",
      "4   103.345002  113.545420   90.991431  102.627284\n",
      "5   128.426471  115.065875   99.613334  114.368560\n",
      "6    96.349029   86.842127   89.490547   90.893901\n",
      "7    88.733547  107.508542   98.661540   98.301210\n",
      "8    87.534215  125.201527  101.308092  104.681278\n",
      "9   107.772703  111.914269   86.865691  102.184221\n",
      "10   96.724035   85.376610  106.363696   96.154780\n",
      "11  120.438927  111.495489   91.523365  107.819260\n",
      "12  117.615951   89.971750   89.795522   99.127741\n",
      "13   92.794770  104.828442  130.598475  109.407229\n",
      "14  103.536499  112.517349  111.083845  109.045897\n",
      "15   82.169596   79.048001  111.243364   90.820320\n",
      "16  102.662774  103.437891   97.048515  101.049727\n",
      "17   91.312562  114.088153   98.270949  101.223888\n",
      "18   83.987045  100.522193  113.534780   99.348006\n",
      "19   89.249739  102.100502  108.824397  100.058212\n",
      "20   94.940035   98.618688  107.502529  100.353751\n"
     ]
    }
   ],
   "source": [
    "# seu código aqui\n",
    "df = pd.DataFrame(arr, columns=['x1', 'x2', 'x3'])\n",
    "df.index = range(1, 21)\n",
    "df['media'] = df.mean(axis=1)\n",
    "print(df)"
   ]
  },
  {
   "cell_type": "markdown",
   "metadata": {},
   "source": [
    "#### 7) No DataFrame do exercício 6, crie uma nova coluna chamada \"log_med\", contendo o logaritmo natural da média calculada no exercício 6 <br>"
   ]
  },
  {
   "cell_type": "code",
   "execution_count": 17,
   "metadata": {},
   "outputs": [
    {
     "name": "stdout",
     "output_type": "stream",
     "text": [
      "            x1          x2          x3       media   log_med\n",
      "1    97.136971  110.626645   88.023471   98.595696  4.591028\n",
      "2   116.028590   91.455214   94.975639  100.819814  4.613335\n",
      "3    82.901486   97.602281  104.943345   95.149037  4.555444\n",
      "4   103.345002  113.545420   90.991431  102.627284  4.631104\n",
      "5   128.426471  115.065875   99.613334  114.368560  4.739426\n",
      "6    96.349029   86.842127   89.490547   90.893901  4.509693\n",
      "7    88.733547  107.508542   98.661540   98.301210  4.588036\n",
      "8    87.534215  125.201527  101.308092  104.681278  4.650920\n",
      "9   107.772703  111.914269   86.865691  102.184221  4.626777\n",
      "10   96.724035   85.376610  106.363696   96.154780  4.565959\n",
      "11  120.438927  111.495489   91.523365  107.819260  4.680456\n",
      "12  117.615951   89.971750   89.795522   99.127741  4.596409\n",
      "13   92.794770  104.828442  130.598475  109.407229  4.695077\n",
      "14  103.536499  112.517349  111.083845  109.045897  4.691769\n",
      "15   82.169596   79.048001  111.243364   90.820320  4.508883\n",
      "16  102.662774  103.437891   97.048515  101.049727  4.615613\n",
      "17   91.312562  114.088153   98.270949  101.223888  4.617335\n",
      "18   83.987045  100.522193  113.534780   99.348006  4.598629\n",
      "19   89.249739  102.100502  108.824397  100.058212  4.605752\n",
      "20   94.940035   98.618688  107.502529  100.353751  4.608701\n"
     ]
    }
   ],
   "source": [
    "# seu código aqui\n",
    "df[\"log_med\"] = np.log(df[\"media\"]) \n",
    "print(df)"
   ]
  },
  {
   "cell_type": "code",
   "execution_count": null,
   "metadata": {},
   "outputs": [],
   "source": []
  }
 ],
 "metadata": {
  "kernelspec": {
   "display_name": "Python 3 (ipykernel)",
   "language": "python",
   "name": "python3"
  },
  "language_info": {
   "codemirror_mode": {
    "name": "ipython",
    "version": 3
   },
   "file_extension": ".py",
   "mimetype": "text/x-python",
   "name": "python",
   "nbconvert_exporter": "python",
   "pygments_lexer": "ipython3",
   "version": "3.11.5"
  }
 },
 "nbformat": 4,
 "nbformat_minor": 4
}
